{
 "cells": [
  {
   "cell_type": "markdown",
   "metadata": {},
   "source": [
    "# Database"
   ]
  },
  {
   "cell_type": "code",
   "execution_count": null,
   "metadata": {},
   "outputs": [],
   "source": [
    "%config Completer.use_jedi = False"
   ]
  },
  {
   "cell_type": "code",
   "execution_count": null,
   "metadata": {},
   "outputs": [],
   "source": [
    "import pandas as pd\n",
    "import re"
   ]
  },
  {
   "cell_type": "code",
   "execution_count": null,
   "metadata": {},
   "outputs": [],
   "source": [
    "datas = pd.read_json('./tests/Processor_tests.json').T"
   ]
  },
  {
   "cell_type": "code",
   "execution_count": null,
   "metadata": {},
   "outputs": [],
   "source": [
    "datas.to_csv('./database.csv', sep=';', encoding='latin-1')"
   ]
  },
  {
   "cell_type": "markdown",
   "metadata": {},
   "source": [
    "# Converter"
   ]
  },
  {
   "cell_type": "markdown",
   "metadata": {},
   "source": [
    "## CBR"
   ]
  },
  {
   "cell_type": "code",
   "execution_count": null,
   "metadata": {},
   "outputs": [],
   "source": [
    "from comicsreader.converter import cbr2cbz"
   ]
  },
  {
   "cell_type": "code",
   "execution_count": null,
   "metadata": {},
   "outputs": [],
   "source": [
    "cbr2cbz('./tests/01 Wasteland.cbr')"
   ]
  },
  {
   "cell_type": "code",
   "execution_count": null,
   "metadata": {},
   "outputs": [],
   "source": []
  },
  {
   "cell_type": "markdown",
   "metadata": {},
   "source": [
    "## Pdf"
   ]
  },
  {
   "cell_type": "code",
   "execution_count": null,
   "metadata": {},
   "outputs": [],
   "source": [
    "from comicsreader.converter import pdf2cbz"
   ]
  },
  {
   "cell_type": "code",
   "execution_count": null,
   "metadata": {},
   "outputs": [],
   "source": [
    "pdf2cbz('./tests/Invisible Republic - T01.pdf')"
   ]
  },
  {
   "cell_type": "markdown",
   "metadata": {},
   "source": [
    "# Dev Meta data"
   ]
  },
  {
   "cell_type": "code",
   "execution_count": null,
   "metadata": {},
   "outputs": [],
   "source": [
    "%load_ext autoreload\n",
    "%autoreload 2"
   ]
  },
  {
   "cell_type": "code",
   "execution_count": null,
   "metadata": {},
   "outputs": [],
   "source": [
    "import os\n",
    "import pandas as pd\n",
    "from comicsreader.metaprocessor import MetaProcessor as Meta\n",
    "from comicsreader.metaprocessor import TitleProcessor as Proc\n",
    "import re"
   ]
  },
  {
   "cell_type": "code",
   "execution_count": null,
   "metadata": {},
   "outputs": [],
   "source": [
    "path = 'D:/Mes bds/'"
   ]
  },
  {
   "cell_type": "code",
   "execution_count": null,
   "metadata": {},
   "outputs": [],
   "source": [
    "for root, dirs, files in os.walk(path, topdown=False):\n",
    "    pass"
   ]
  },
  {
   "cell_type": "code",
   "execution_count": null,
   "metadata": {
    "scrolled": true
   },
   "outputs": [],
   "source": [
    "root"
   ]
  },
  {
   "cell_type": "code",
   "execution_count": null,
   "metadata": {},
   "outputs": [],
   "source": [
    "files"
   ]
  },
  {
   "cell_type": "code",
   "execution_count": null,
   "metadata": {},
   "outputs": [],
   "source": [
    "file = files[3]\n",
    "file"
   ]
  },
  {
   "cell_type": "code",
   "execution_count": null,
   "metadata": {},
   "outputs": [],
   "source": [
    "pattern = re.compile(r\"\"\"\n",
    "                                (?!{)  # ignore when starting with {\n",
    "                                ([^A-Za-z][0-9]{1,3})\n",
    "                                (-[^A-Za-z][0-9]{1,3})?\n",
    "                                (?!})  # ignore when finishing with }\n",
    "\n",
    "                                \"\"\", re.VERBOSE\n",
    "                                 )\n",
    "# pattern = '[0-9]{1,3}'\n",
    "match = re.search(pattern, file)\n",
    "match"
   ]
  },
  {
   "cell_type": "code",
   "execution_count": null,
   "metadata": {
    "scrolled": true
   },
   "outputs": [],
   "source": [
    "match.groups()"
   ]
  },
  {
   "cell_type": "code",
   "execution_count": null,
   "metadata": {},
   "outputs": [],
   "source": [
    "processor = Proc()\n",
    "processor(file)"
   ]
  },
  {
   "cell_type": "code",
   "execution_count": null,
   "metadata": {},
   "outputs": [],
   "source": [
    "file"
   ]
  },
  {
   "cell_type": "code",
   "execution_count": null,
   "metadata": {},
   "outputs": [],
   "source": [
    "datas = []\n",
    "for file in files:\n",
    "    datas.append(Meta.from_file(file))\n",
    "\n",
    "processed = pd.DataFrame([data.as_dict() for data in datas])"
   ]
  },
  {
   "cell_type": "code",
   "execution_count": null,
   "metadata": {},
   "outputs": [],
   "source": [
    "from ipywidgets import widgets, interactive, interact\n",
    "\n",
    "pd.set_option(\"max_colwidth\", 100)\n",
    "\n",
    "@interact(n=list(range(processed.index.stop // 5)))\n",
    "def sample(n):\n",
    "    return processed.loc[5*n:5*(n+1), ['file', 'extension', 'date', 'volumes', 'chapters', 'title']]"
   ]
  },
  {
   "cell_type": "code",
   "execution_count": null,
   "metadata": {},
   "outputs": [],
   "source": [
    "import json"
   ]
  },
  {
   "cell_type": "code",
   "execution_count": null,
   "metadata": {},
   "outputs": [],
   "source": [
    "processed.T.to_json('./tests/Processor_tests.json', indent=4)"
   ]
  },
  {
   "cell_type": "code",
   "execution_count": null,
   "metadata": {},
   "outputs": [],
   "source": [
    "processed.to_csv('./database.csv', sep=';', encoding='latin-1')"
   ]
  },
  {
   "cell_type": "markdown",
   "metadata": {},
   "source": [
    "# Database"
   ]
  },
  {
   "cell_type": "code",
   "execution_count": 1,
   "metadata": {},
   "outputs": [],
   "source": [
    "import pandas as pd\n",
    "import re, os\n",
    "import shutil\n",
    "import ast\n",
    "from comicsreader.converter import cbr2cbz, pdf2cbz\n",
    "\n",
    "%load_ext autoreload\n",
    "%autoreload 2"
   ]
  },
  {
   "cell_type": "code",
   "execution_count": 2,
   "metadata": {},
   "outputs": [],
   "source": [
    "def format_list(x, prefix='(', suffix=')'):\n",
    "    if len(x) == 0:\n",
    "        result = ''\n",
    "    elif len(x) < 3:\n",
    "        result = prefix + '-'.join(map(str, x)) + suffix\n",
    "    else:\n",
    "        result = prefix + ', '.join(map(str, x)) + suffix\n",
    "    return result\n",
    "\n",
    "def format_title(x):\n",
    "    dates = format_list(x.dates, '(', ')')\n",
    "    volumes = format_list(x.volumes, ', T', '')\n",
    "#     chapters = format_list(x.chapters, ', ', '')\n",
    "    result = f'{x.title} {dates}{volumes}'\n",
    "    result = re.sub(' +', ' ', result.strip())\n",
    "    return result"
   ]
  },
  {
   "cell_type": "code",
   "execution_count": 3,
   "metadata": {},
   "outputs": [],
   "source": [
    "datas = pd.read_csv('./database_corrected.csv', sep=';', encoding='latin-1', index_col=0)\n",
    "datas[['dates', 'volumes']] = datas[['dates', 'volumes']].applymap(ast.literal_eval)"
   ]
  },
  {
   "cell_type": "code",
   "execution_count": 4,
   "metadata": {},
   "outputs": [],
   "source": [
    "datas['formatted_title'] = datas.apply(format_title, axis=1)"
   ]
  },
  {
   "cell_type": "code",
   "execution_count": null,
   "metadata": {},
   "outputs": [],
   "source": [
    "# convert\n",
    "\n",
    "export_path = 'E:/comics_database/'\n",
    "input_path = 'D:/Mes bds'\n",
    "\n",
    "for series, group in datas.groupby('title'):\n",
    "    path = os.path.join(export_path, series)\n",
    "    if not os.path.exists(path):\n",
    "        os.makedirs(path)\n",
    "    \n",
    "    for _, row in group.iterrows():\n",
    "        # convert\n",
    "        file = row.file\n",
    "        ext = file.split('.')[-1]\n",
    "        if ext == 'cbz':\n",
    "            shutil.copy(os.path.join(input_path, file), os.path.join(path, file))\n",
    "        elif ext == 'cbr':\n",
    "            cbr2cbz(os.path.join(input_path, file), path)\n",
    "        elif ext == 'pdf':\n",
    "            pdf2cbz(os.path.join(input_path, file), path)\n",
    "            \n",
    "        # rename\n",
    "        input_file = file.split('.')[0] + '.cbz'\n",
    "        output_file = row.formatted_title + '.cbz'\n",
    "        os.rename(os.path.join(path, input_file), os.path.join(path, output_file))"
   ]
  },
  {
   "cell_type": "code",
   "execution_count": 5,
   "metadata": {},
   "outputs": [],
   "source": [
    "series_table = pd.DataFrame(datas.title.unique(), columns=['Serie'])\n",
    "series_table['ID'] = series_table.Serie.apply(hash)\n",
    "series_map = series_table.set_index('Serie').ID\n",
    "\n",
    "books_table = datas.copy()\n",
    "books_table['serie_ID'] = series_map[books_table['title']].values\n",
    "books_table.drop(columns=['tokenized_file', 'extension', 'title'], inplace=True)\n",
    "books_table.rename({'formatted_title': 'name'}, axis=1, inplace=True)\n",
    "books_table['ID']= books_table.name.apply(hash)\n",
    "books_table[['dates', 'volumes']] = books_table[['dates', 'volumes']].astype(str)\n",
    "\n",
    "series_table.rename(str.lower, axis=1, inplace=True)\n",
    "books_table.rename(str.lower, axis=1, inplace=True)"
   ]
  },
  {
   "cell_type": "markdown",
   "metadata": {},
   "source": [
    "# Sqlalchemy"
   ]
  },
  {
   "cell_type": "code",
   "execution_count": 22,
   "metadata": {},
   "outputs": [],
   "source": [
    "import sqlalchemy as db\n",
    "from sqlalchemy import Column, Integer, String, ForeignKey, Table, MetaData\n",
    "from sqlalchemy.orm import relationship, backref\n",
    "from sqlalchemy.ext.declarative import declarative_base\n",
    "from functools import partial"
   ]
  },
  {
   "cell_type": "code",
   "execution_count": 7,
   "metadata": {},
   "outputs": [],
   "source": [
    "from sqlalchemy import create_engine, text, insert\n",
    "from sqlalchemy.orm import sessionmaker"
   ]
  },
  {
   "cell_type": "code",
   "execution_count": 8,
   "metadata": {},
   "outputs": [],
   "source": [
    "engine = create_engine('sqlite+pysqlite:///comics_db.sqlite', echo=True, future=True)\n",
    "Session = sessionmaker(bind=engine)\n",
    "session = Session()"
   ]
  },
  {
   "cell_type": "code",
   "execution_count": 18,
   "metadata": {},
   "outputs": [],
   "source": [
    "Base = declarative_base()\n",
    "class AsDict:\n",
    "    __attr__ = []\n",
    "    \n",
    "    def as_dict(self):\n",
    "        return {key: self.__getattribute__(key) for key in self.__attr__}\n",
    "    \n",
    "    @classmethod\n",
    "    def from_series(cls, x: pd.Series):\n",
    "        return cls(**x[cls.__attr__].to_dict())\n",
    "    \n",
    "    def __repr__(self):\n",
    "        return self.as_dict().__str__()\n",
    "\n",
    "class Serie(Base, AsDict):\n",
    "    __tablename__ = 'series'\n",
    "    __attr__ = ['id', 'serie']\n",
    "    id = Column(Integer, primary_key=True)\n",
    "    serie = Column(String)\n",
    "    books = relationship('Book', backref=backref('series'))    \n",
    "    \n",
    "class Book(Base, AsDict):\n",
    "    __tablename__ = 'books'\n",
    "    __attr__ = ['id', 'serie_id', 'name', 'dates','volumes']\n",
    "    id = Column(Integer, primary_key=True)\n",
    "    serie_id = Column(Integer, ForeignKey('series.id'))\n",
    "    name = Column(String)\n",
    "    dates = Column(String)\n",
    "    volumes = Column(String)\n",
    "    \n",
    "series = Table('series', Base.metadata, autoload=True, autoload_with=engine)\n",
    "books = Table('books', Base.metadata, autoload=True, autoload_with=engine)"
   ]
  },
  {
   "cell_type": "code",
   "execution_count": 19,
   "metadata": {
    "scrolled": false
   },
   "outputs": [
    {
     "name": "stdout",
     "output_type": "stream",
     "text": [
      "2021-08-13 18:50:09,807 INFO sqlalchemy.engine.Engine BEGIN (implicit)\n",
      "2021-08-13 18:50:09,819 INFO sqlalchemy.engine.Engine SELECT name FROM sqlite_master WHERE type='table' ORDER BY name\n",
      "2021-08-13 18:50:09,821 INFO sqlalchemy.engine.Engine [raw sql] ()\n",
      "2021-08-13 18:50:09,825 INFO sqlalchemy.engine.Engine ROLLBACK\n",
      "2021-08-13 18:50:09,830 INFO sqlalchemy.engine.Engine BEGIN (implicit)\n",
      "2021-08-13 18:50:09,834 INFO sqlalchemy.engine.Engine PRAGMA main.table_info(\"series\")\n",
      "2021-08-13 18:50:09,834 INFO sqlalchemy.engine.Engine [raw sql] ()\n",
      "2021-08-13 18:50:09,834 INFO sqlalchemy.engine.Engine PRAGMA temp.table_info(\"series\")\n",
      "2021-08-13 18:50:09,840 INFO sqlalchemy.engine.Engine [raw sql] ()\n",
      "2021-08-13 18:50:09,843 INFO sqlalchemy.engine.Engine PRAGMA main.table_info(\"books\")\n",
      "2021-08-13 18:50:09,843 INFO sqlalchemy.engine.Engine [raw sql] ()\n",
      "2021-08-13 18:50:09,843 INFO sqlalchemy.engine.Engine PRAGMA temp.table_info(\"books\")\n",
      "2021-08-13 18:50:09,851 INFO sqlalchemy.engine.Engine [raw sql] ()\n",
      "2021-08-13 18:50:09,851 INFO sqlalchemy.engine.Engine \n",
      "CREATE TABLE series (\n",
      "\tid INTEGER NOT NULL, \n",
      "\tserie VARCHAR, \n",
      "\tPRIMARY KEY (id)\n",
      ")\n",
      "\n",
      "\n",
      "2021-08-13 18:50:09,860 INFO sqlalchemy.engine.Engine [no key 0.00402s] ()\n",
      "2021-08-13 18:50:09,873 INFO sqlalchemy.engine.Engine \n",
      "CREATE TABLE books (\n",
      "\tid INTEGER NOT NULL, \n",
      "\tserie_id INTEGER, \n",
      "\tname VARCHAR, \n",
      "\tdates VARCHAR, \n",
      "\tvolumes VARCHAR, \n",
      "\tPRIMARY KEY (id), \n",
      "\tFOREIGN KEY(serie_id) REFERENCES series (id)\n",
      ")\n",
      "\n",
      "\n",
      "2021-08-13 18:50:09,877 INFO sqlalchemy.engine.Engine [no key 0.00210s] ()\n",
      "2021-08-13 18:50:09,890 INFO sqlalchemy.engine.Engine COMMIT\n"
     ]
    }
   ],
   "source": [
    "meta = MetaData(bind=engine)\n",
    "meta.reflect(engine)\n",
    "if len(meta.tables) == 0:\n",
    "    Base.metadata.create_all(engine)"
   ]
  },
  {
   "cell_type": "code",
   "execution_count": 25,
   "metadata": {},
   "outputs": [],
   "source": [
    "def execute_query(engine, query, **args):\n",
    "    with engine.connect() as conn:\n",
    "        conn.execute(query, *args)\n",
    "        conn.commit()"
   ]
  },
  {
   "cell_type": "code",
   "execution_count": 20,
   "metadata": {
    "scrolled": true
   },
   "outputs": [
    {
     "name": "stdout",
     "output_type": "stream",
     "text": [
      "2021-08-13 18:50:26,584 INFO sqlalchemy.engine.Engine BEGIN (implicit)\n",
      "2021-08-13 18:50:26,594 INFO sqlalchemy.engine.Engine INSERT INTO series (id, serie) VALUES (?, ?)\n",
      "2021-08-13 18:50:26,594 INFO sqlalchemy.engine.Engine [generated in 0.00308s] ((-7818973386405687002, 'Authority - Human on the Inside'), (-8809719025296134653, 'Blackgas'), (5377669183114557087, 'Caliban'), (8543239933917734762, 'Critical Role - Vox Machina Origins Series II'), (279211294762406937, 'Ether'), (-7828051170934429068, 'Ether - The Disappearance of Violet Bell'), (-5706947596546639003, 'Evil Empire'), (318029154217467305, 'Fatale Book')  ... displaying 10 of 64 total bound parameter sets ...  (-7049867519448743398, 'Wizard Beach'), (-3412539509003522277, 'Wyrd'))\n",
      "2021-08-13 18:50:26,606 INFO sqlalchemy.engine.Engine COMMIT\n"
     ]
    }
   ],
   "source": [
    "values_to_insert = [Serie.from_series(row) for _, row in series_table.iterrows()]\n",
    "session.add_all(values_to_insert)\n",
    "session.commit()"
   ]
  },
  {
   "cell_type": "code",
   "execution_count": 21,
   "metadata": {},
   "outputs": [
    {
     "name": "stdout",
     "output_type": "stream",
     "text": [
      "2021-08-13 18:50:28,113 INFO sqlalchemy.engine.Engine BEGIN (implicit)\n",
      "2021-08-13 18:50:28,121 INFO sqlalchemy.engine.Engine INSERT INTO books (id, serie_id, name, dates, volumes) VALUES (?, ?, ?, ?, ?)\n",
      "2021-08-13 18:50:28,121 INFO sqlalchemy.engine.Engine [generated in 0.00383s] ((-7818973386405687002, -7818973386405687002, 'Authority - Human on the Inside', '[]', '[]'), (104524395293276692, -8809719025296134653, 'Blackgas (2006)', '[2006]', '[]'), (-3552946770667500403, 5377669183114557087, 'Caliban (2014)', '[2014]', '[]'), (767945623645037230, 8543239933917734762, 'Critical Role - Vox Machina Origins Series II (2020), T5', '[2020]', '[5]'), (1408640591926604528, 8543239933917734762, 'Critical Role - Vox Machina Origins Series II (2019), T1', '[2019]', '[1]'), (-8474208945246161316, 8543239933917734762, 'Critical Role - Vox Machina Origins Series II (2019), T2', '[2019]', '[2]'), (5561919319244272431, 8543239933917734762, 'Critical Role - Vox Machina Origins Series II (2019), T3', '[2019]', '[3]'), (4808409186365801730, 8543239933917734762, 'Critical Role - Vox Machina Origins Series II (2020), T6', '[2020]', '[6]')  ... displaying 10 of 103 total bound parameter sets ...  (-5933336230121948338, -3412539509003522277, 'Wyrd (2019), T1', '[2019]', '[1]'), (-1929622752859502820, -3412539509003522277, 'Wyrd (2019), T2', '[2019]', '[2]'))\n",
      "2021-08-13 18:50:28,138 INFO sqlalchemy.engine.Engine COMMIT\n"
     ]
    }
   ],
   "source": [
    "values_to_insert = [Book.from_series(row) for _, row in books_table.iterrows()]\n",
    "session.add_all(values_to_insert)\n",
    "session.commit()"
   ]
  },
  {
   "cell_type": "code",
   "execution_count": 45,
   "metadata": {},
   "outputs": [
    {
     "data": {
      "text/plain": [
       "<sqlalchemy.sql.selectable.Select object at 0x0000020FF028BB88>"
      ]
     },
     "execution_count": 45,
     "metadata": {},
     "output_type": "execute_result"
    }
   ],
   "source": [
    "db.select([series.columns.serie])"
   ]
  },
  {
   "cell_type": "code",
   "execution_count": 41,
   "metadata": {},
   "outputs": [
    {
     "name": "stdout",
     "output_type": "stream",
     "text": [
      "2021-08-13 19:17:07,050 INFO sqlalchemy.engine.Engine BEGIN (implicit)\n",
      "2021-08-13 19:17:07,058 INFO sqlalchemy.engine.Engine SELECT series.id AS series_id, series.serie AS series_serie \n",
      "FROM series\n",
      "2021-08-13 19:17:07,061 INFO sqlalchemy.engine.Engine [generated in 0.00257s] ()\n"
     ]
    },
    {
     "data": {
      "text/plain": [
       "[{'id': -8833933816637478755, 'serie': 'Warren Ellis Ignition City'},\n",
       " {'id': -8809719025296134653, 'serie': 'Blackgas'},\n",
       " {'id': -8513709633002576919, 'serie': 'Undying Love'},\n",
       " {'id': -7828051170934429068, 'serie': 'Ether - The Disappearance of Violet Bell'},\n",
       " {'id': -7818973386405687002, 'serie': 'Authority - Human on the Inside'},\n",
       " {'id': -7444446579655107128, 'serie': 'Rasputin - The Voice of the Dragon'},\n",
       " {'id': -7049867519448743398, 'serie': 'Wizard Beach'},\n",
       " {'id': -6765444887463260425, 'serie': 'Grendel'},\n",
       " {'id': -5706947596546639003, 'serie': 'Evil Empire'},\n",
       " {'id': -5630409175883020425, 'serie': 'Warlord of Mars - Dejah Thoris'},\n",
       " {'id': -5379907742672526916, 'serie': 'The Sandman Universe'},\n",
       " {'id': -5043920036447030823, 'serie': 'Warlord of Mars'},\n",
       " {'id': -4721164017087473998, 'serie': 'The Dark North'},\n",
       " {'id': -3995961064549379875, 'serie': 'iZombie'},\n",
       " {'id': -3826274488361420833, 'serie': 'Norse Mythology'},\n",
       " {'id': -3452348545095113292, 'serie': 'The Last One'},\n",
       " {'id': -3412539509003522277, 'serie': 'Wyrd'},\n",
       " {'id': -2831638433312204488, 'serie': 'Unholy Grail'},\n",
       " {'id': -2665703950513667771, 'serie': 'Ghost'},\n",
       " {'id': -2413703388717845383, 'serie': 'The Whispering Dark'},\n",
       " {'id': -2206510846456479781, 'serie': 'The Woods'},\n",
       " {'id': -2176360187321574323, 'serie': 'Spawn - Book of the Dead'},\n",
       " {'id': -2006813768817423393, 'serie': 'The Crow - Skinning the Wolves'},\n",
       " {'id': -1921067512767632517, 'serie': 'Vampirella - The Essential Warren Years V1'},\n",
       " {'id': -1904814107984598501, 'serie': 'Goddess'},\n",
       " {'id': -981018475959956851, 'serie': 'The Complete Witchblade'},\n",
       " {'id': -897673694292547347, 'serie': 'Insurrection v3.6'},\n",
       " {'id': -833823930694886499, 'serie': 'Near Death'},\n",
       " {'id': -729485308792393330, 'serie': 'Spawn - Architects of Fear'},\n",
       " {'id': -665528673560026302, 'serie': 'The Demon'},\n",
       " {'id': -605733480560653388, 'serie': 'Hex Wives'},\n",
       " {'id': -387034057806099856, 'serie': 'V For Vendetta'},\n",
       " {'id': -148331558155072526, 'serie': 'Gideon Falls'},\n",
       " {'id': -135911057727877674, 'serie': 'Monstress'},\n",
       " {'id': 82109793667864365, 'serie': 'Paper Girls'},\n",
       " {'id': 279211294762406937, 'serie': 'Ether'},\n",
       " {'id': 318029154217467305, 'serie': 'Fatale Book'},\n",
       " {'id': 919282515940462652, 'serie': 'Tales of the Vampires'},\n",
       " {'id': 1338532579928789508, 'serie': 'Hotell'},\n",
       " {'id': 1439995813528104611, 'serie': 'The Nobody GN'},\n",
       " {'id': 1535052411096020671, 'serie': 'Vamps - The Complete Collection'},\n",
       " {'id': 1709893732307714222, 'serie': 'Hack-Slash'},\n",
       " {'id': 1885222364885099012, 'serie': 'The Fountain by Darren Aronofsky and Kent Williams'},\n",
       " {'id': 2395904483746505167, 'serie': 'The Complete Suiciders - The Big Shake'},\n",
       " {'id': 2470042741929413989, 'serie': 'Slots'},\n",
       " {'id': 2930948618835105921, 'serie': 'Revolver'},\n",
       " {'id': 3081044304612738230, 'serie': 'The Dreaming'},\n",
       " {'id': 3170653001399021138, 'serie': 'Global Frequency - The Deluxe Edition'},\n",
       " {'id': 3365880601072489943, 'serie': 'Spawn - The Undead - Collected Edition'},\n",
       " {'id': 3405202046676227091, 'serie': 'Spawn The Dark Ages - The Complete Collection'},\n",
       " {'id': 3420043513407912532, 'serie': 'The Kitchen'},\n",
       " {'id': 4153367383545064246, 'serie': 'Sir Edward Grey, Witchfinder'},\n",
       " {'id': 4710861637455836363, 'serie': 'Lucifer'},\n",
       " {'id': 5304719814427424056, 'serie': 'The Goddamned Before the Flood'},\n",
       " {'id': 5377669183114557087, 'serie': 'Caliban'},\n",
       " {'id': 6566830847196734115, 'serie': 'Punk Rock Jesus Deluxe Edition'},\n",
       " {'id': 6613686546642125232, 'serie': 'Prometheus - Life and Death'},\n",
       " {'id': 7048077024038249999, 'serie': 'Neil Gaiman - Death - The Deluxe Edition'},\n",
       " {'id': 7353938085984522132, 'serie': 'The Wild Storm'},\n",
       " {'id': 7732522867843476468, 'serie': 'Rick and Morty - Book'},\n",
       " {'id': 8464658057304290984, 'serie': 'Top 10'},\n",
       " {'id': 8543239933917734762, 'serie': 'Critical Role - Vox Machina Origins Series II'},\n",
       " {'id': 8869765030038465453, 'serie': 'Resurrectionists'},\n",
       " {'id': 8988947937484604017, 'serie': 'Strayed'}]"
      ]
     },
     "execution_count": 41,
     "metadata": {},
     "output_type": "execute_result"
    }
   ],
   "source": [
    "session.query(Serie)"
   ]
  },
  {
   "cell_type": "code",
   "execution_count": null,
   "metadata": {},
   "outputs": [],
   "source": [
    "session.close()"
   ]
  },
  {
   "cell_type": "markdown",
   "metadata": {},
   "source": [
    "# pyunpack"
   ]
  },
  {
   "cell_type": "code",
   "execution_count": null,
   "metadata": {},
   "outputs": [],
   "source": [
    "%load_ext autoreload\n",
    "%autoreload 2\n",
    "%config Completer.use_jedi = False\n",
    "\n",
    "from pyunpack import Archive\n",
    "from zipfile import ZipFile\n",
    "import os"
   ]
  },
  {
   "cell_type": "markdown",
   "metadata": {},
   "source": [
    "# Rarfile"
   ]
  },
  {
   "cell_type": "code",
   "execution_count": null,
   "metadata": {},
   "outputs": [],
   "source": [
    "%load_ext autoreload\n",
    "%autoreload 2\n",
    "%config Completer.use_jedi = False\n",
    "\n",
    "import rarfile.rarfile as rarfile\n",
    "\n",
    "# rarfile.UNAR_TOOL = './unar/unar.exe'\n",
    "# rarfile.UNAR_TOOL = './unrar/UNRAR.exe'\n",
    "rarfile.UNAR_TOOL = './libarchive/bin/bsdtar.exe'"
   ]
  },
  {
   "cell_type": "code",
   "execution_count": null,
   "metadata": {
    "scrolled": false
   },
   "outputs": [],
   "source": [
    "file_path = './01 Wasteland.cbr'\n",
    "with rarfile.RarFile(file_path) as rf:\n",
    "    for f in rf.infolist():\n",
    "        print(f.filename, f.file_size)\n",
    "        rf.extract(f.orig_filename, './')"
   ]
  },
  {
   "cell_type": "code",
   "execution_count": null,
   "metadata": {},
   "outputs": [],
   "source": []
  },
  {
   "cell_type": "code",
   "execution_count": null,
   "metadata": {},
   "outputs": [],
   "source": [
    "f.orig_filename.endswith(b'/')"
   ]
  }
 ],
 "metadata": {
  "hide_input": false,
  "kernelspec": {
   "display_name": "Python 3 (ipykernel)",
   "language": "python",
   "name": "python3"
  },
  "language_info": {
   "codemirror_mode": {
    "name": "ipython",
    "version": 3
   },
   "file_extension": ".py",
   "mimetype": "text/x-python",
   "name": "python",
   "nbconvert_exporter": "python",
   "pygments_lexer": "ipython3",
   "version": "3.9.6"
  },
  "toc": {
   "base_numbering": 1,
   "nav_menu": {},
   "number_sections": true,
   "sideBar": true,
   "skip_h1_title": false,
   "title_cell": "Table of Contents",
   "title_sidebar": "Contents",
   "toc_cell": false,
   "toc_position": {
    "height": "calc(100% - 180px)",
    "left": "10px",
    "top": "150px",
    "width": "165px"
   },
   "toc_section_display": true,
   "toc_window_display": true
  }
 },
 "nbformat": 4,
 "nbformat_minor": 4
}
