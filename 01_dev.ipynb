{
 "cells": [
  {
   "cell_type": "code",
   "execution_count": 35,
   "id": "d678a6a3",
   "metadata": {},
   "outputs": [
    {
     "name": "stdout",
     "output_type": "stream",
     "text": [
      "The autoreload extension is already loaded. To reload it, use:\n",
      "  %reload_ext autoreload\n"
     ]
    }
   ],
   "source": [
    "from zipfile import ZipFile\n",
    "import os\n",
    "from PIL import Image\n",
    "import io\n",
    "import shutil\n",
    "\n",
    "%load_ext autoreload\n",
    "%autoreload 2\n",
    "\n",
    "from comicsreader.converter import cbr2cbz\n",
    "from comicsreader.thumbnail import build_thumbnail"
   ]
  },
  {
   "cell_type": "code",
   "execution_count": 36,
   "id": "e63f11d3",
   "metadata": {},
   "outputs": [],
   "source": [
    "build_thumbnail('E:/comics_database/')"
   ]
  },
  {
   "cell_type": "code",
   "execution_count": 52,
   "id": "36918e41",
   "metadata": {},
   "outputs": [],
   "source": [
    "root_path = 'E:/comics_database/'"
   ]
  },
  {
   "cell_type": "code",
   "execution_count": 53,
   "id": "16c0aaf9",
   "metadata": {},
   "outputs": [],
   "source": [
    "def has_thumbnail(path)-> bool:\n",
    "    return os.path.exists(os.path.join(path, '.thumbnail'))\n",
    "\n",
    "def retrieve_thumbnail_for_file(path, file):\n",
    "    basename, _ = os.path.splitext(file)\n",
    "    thumbnail_path = os.path.join(path, '.thumbnail', basename+'.jpg')\n",
    "    if os.path.exists(thumbnail_path):\n",
    "        return thumbnail_path\n",
    "    else:\n",
    "        return False\n",
    "    "
   ]
  },
  {
   "cell_type": "code",
   "execution_count": 57,
   "id": "5c244747",
   "metadata": {},
   "outputs": [],
   "source": [
    "items = []\n",
    "for file in os.listdir(path):\n",
    "    file_path = os.path.join(path, file)\n",
    "    item = None\n",
    "    \n",
    "    if file.endswith('.cbz'):\n",
    "        item = {'file': file}\n",
    "        thumbnail_path = retrieve_thumbnail_for_file(path, file)\n",
    "        if thumbnail_path:\n",
    "            item['thumbnail'] = thumbnail_path\n",
    "    \n",
    "    elif os.path.isdir(file_path):\n",
    "        item = {'file': file}\n",
    "        \n",
    "    \n",
    "    if item:\n",
    "        items.append(item)"
   ]
  },
  {
   "cell_type": "code",
   "execution_count": 58,
   "id": "cc181b26",
   "metadata": {},
   "outputs": [
    {
     "data": {
      "text/plain": [
       "[{'file': 'Critical Role - Vox Machina Origins Series II'},\n",
       " {'file': 'Ether'},\n",
       " {'file': 'Ether - The Disappearance of Violet Bell'},\n",
       " {'file': 'Evil Empire'},\n",
       " {'file': 'Fatale Book'},\n",
       " {'file': 'Ghost'},\n",
       " {'file': 'Gideon Falls'},\n",
       " {'file': 'Global Frequency - The Deluxe Edition'},\n",
       " {'file': 'Goddess'},\n",
       " {'file': 'Grendel'},\n",
       " {'file': 'Hack-Slash'},\n",
       " {'file': 'Hex Wives'},\n",
       " {'file': 'Hotell'},\n",
       " {'file': 'Insurrection v3.6'},\n",
       " {'file': 'iZombie'},\n",
       " {'file': 'Lucifer'},\n",
       " {'file': 'Monstress'},\n",
       " {'file': 'Near Death'},\n",
       " {'file': 'Neil Gaiman - Death - The Deluxe Edition'},\n",
       " {'file': 'Norse Mythology'},\n",
       " {'file': 'Paper Girls'},\n",
       " {'file': 'Prometheus - Life and Death'},\n",
       " {'file': 'Punk Rock Jesus Deluxe Edition'},\n",
       " {'file': 'Rasputin - The Voice of the Dragon'},\n",
       " {'file': 'Resurrectionists'},\n",
       " {'file': 'Revolver'},\n",
       " {'file': 'Rick and Morty - Book'},\n",
       " {'file': 'Sir Edward Grey, Witchfinder'},\n",
       " {'file': 'Slots'},\n",
       " {'file': 'Spawn - Architects of Fear'},\n",
       " {'file': 'Spawn - Book of the Dead'},\n",
       " {'file': 'Spawn - The Undead - Collected Edition'},\n",
       " {'file': 'Spawn The Dark Ages - The Complete Collection'},\n",
       " {'file': 'Strayed'},\n",
       " {'file': 'Tales of the Vampires'},\n",
       " {'file': 'The Complete Suiciders - The Big Shake'},\n",
       " {'file': 'The Complete Witchblade'},\n",
       " {'file': 'The Crow - Skinning the Wolves'},\n",
       " {'file': 'The Dark North'},\n",
       " {'file': 'The Demon'},\n",
       " {'file': 'The Dreaming'},\n",
       " {'file': 'The Fountain by Darren Aronofsky and Kent Williams'},\n",
       " {'file': 'The Goddamned Before the Flood'},\n",
       " {'file': 'The Kitchen'},\n",
       " {'file': 'The Last One'},\n",
       " {'file': 'The Nobody GN'},\n",
       " {'file': 'The Sandman Universe'},\n",
       " {'file': 'The Whispering Dark'},\n",
       " {'file': 'The Wild Storm'},\n",
       " {'file': 'The Woods'},\n",
       " {'file': 'Top 10'},\n",
       " {'file': 'Undying Love'},\n",
       " {'file': 'Unholy Grail'},\n",
       " {'file': 'V For Vendetta'},\n",
       " {'file': 'Vampirella - The Essential Warren Years V1'},\n",
       " {'file': 'Vamps - The Complete Collection'},\n",
       " {'file': 'Warlord of Mars'},\n",
       " {'file': 'Warlord of Mars - Dejah Thoris'},\n",
       " {'file': 'Warren Ellis Ignition City'},\n",
       " {'file': 'Wizard Beach'},\n",
       " {'file': 'Wyrd'}]"
      ]
     },
     "execution_count": 58,
     "metadata": {},
     "output_type": "execute_result"
    }
   ],
   "source": [
    "items"
   ]
  }
 ],
 "metadata": {
  "kernelspec": {
   "display_name": "Python 3 (ipykernel)",
   "language": "python",
   "name": "python3"
  },
  "language_info": {
   "codemirror_mode": {
    "name": "ipython",
    "version": 3
   },
   "file_extension": ".py",
   "mimetype": "text/x-python",
   "name": "python",
   "nbconvert_exporter": "python",
   "pygments_lexer": "ipython3",
   "version": "3.9.6"
  }
 },
 "nbformat": 4,
 "nbformat_minor": 5
}
