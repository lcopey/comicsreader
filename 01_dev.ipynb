{
 "cells": [
  {
   "cell_type": "code",
   "execution_count": 20,
   "id": "5efee6b7",
   "metadata": {},
   "outputs": [
    {
     "name": "stdout",
     "output_type": "stream",
     "text": [
      "The autoreload extension is already loaded. To reload it, use:\n",
      "  %reload_ext autoreload\n"
     ]
    }
   ],
   "source": [
    "from zipfile import ZipFile\n",
    "import os\n",
    "from PIL import Image\n",
    "import io\n",
    "import shutil\n",
    "\n",
    "%load_ext autoreload\n",
    "%autoreload 2\n",
    "\n",
    "from comicsreader.converter import cbr2cbz\n",
    "from comicsreader.thumbnail import build_thumbnail, erase_thumbnail"
   ]
  },
  {
   "cell_type": "code",
   "execution_count": 22,
   "id": "1cbdd1bf",
   "metadata": {},
   "outputs": [],
   "source": [
    "erase_thumbnail('E:/comics_database')"
   ]
  },
  {
   "cell_type": "code",
   "execution_count": 19,
   "id": "5e8ce712",
   "metadata": {},
   "outputs": [],
   "source": [
    "build_thumbnail('E:/comics_database/', './comicsreader/static/thumbnail')"
   ]
  },
  {
   "cell_type": "code",
   "execution_count": null,
   "id": "dce22868",
   "metadata": {},
   "outputs": [],
   "source": [
    "def has_thumbnail(path)-> bool:\n",
    "    return os.path.exists(os.path.join(path, '.thumbnail'))\n",
    "\n",
    "def retrieve_thumbnail_for_file(path, file):\n",
    "    basename, _ = os.path.splitext(file)\n",
    "    thumbnail_path = os.path.join(path, '.thumbnail', basename+'.jpg')\n",
    "    if os.path.exists(thumbnail_path):\n",
    "        return thumbnail_path\n",
    "    else:\n",
    "        return False\n",
    "    "
   ]
  },
  {
   "cell_type": "code",
   "execution_count": null,
   "id": "12ab17b5",
   "metadata": {},
   "outputs": [],
   "source": [
    "items = []\n",
    "for file in os.listdir(path):\n",
    "    file_path = os.path.join(path, file)\n",
    "    item = None\n",
    "    \n",
    "    if file.endswith('.cbz'):\n",
    "        item = {'file': file}\n",
    "        thumbnail_path = retrieve_thumbnail_for_file(path, file)\n",
    "        if thumbnail_path:\n",
    "            item['thumbnail'] = thumbnail_path\n",
    "    \n",
    "    elif os.path.isdir(file_path):\n",
    "        item = {'file': file}\n",
    "        \n",
    "    \n",
    "    if item:\n",
    "        items.append(item)"
   ]
  },
  {
   "cell_type": "code",
   "execution_count": null,
   "id": "6784a0e4",
   "metadata": {},
   "outputs": [],
   "source": [
    "items"
   ]
  }
 ],
 "metadata": {
  "kernelspec": {
   "display_name": "Python 3 (ipykernel)",
   "language": "python",
   "name": "python3"
  },
  "language_info": {
   "codemirror_mode": {
    "name": "ipython",
    "version": 3
   },
   "file_extension": ".py",
   "mimetype": "text/x-python",
   "name": "python",
   "nbconvert_exporter": "python",
   "pygments_lexer": "ipython3",
   "version": "3.9.6"
  }
 },
 "nbformat": 4,
 "nbformat_minor": 5
}
