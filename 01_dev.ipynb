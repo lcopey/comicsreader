{
 "cells": [
  {
   "cell_type": "code",
   "execution_count": 30,
   "id": "5efee6b7",
   "metadata": {},
   "outputs": [
    {
     "name": "stdout",
     "output_type": "stream",
     "text": [
      "The autoreload extension is already loaded. To reload it, use:\n",
      "  %reload_ext autoreload\n"
     ]
    }
   ],
   "source": [
    "from zipfile import ZipFile\n",
    "import os\n",
    "from PIL import Image\n",
    "import io\n",
    "import shutil\n",
    "\n",
    "%load_ext autoreload\n",
    "%autoreload 2\n",
    "\n",
    "from comicsreader.converter import cbr2cbz\n",
    "from comicsreader.thumbnail import build_thumbnail, erase_thumbnail"
   ]
  },
  {
   "cell_type": "code",
   "execution_count": 22,
   "id": "1cbdd1bf",
   "metadata": {},
   "outputs": [],
   "source": [
    "erase_thumbnail('E:/comics_database')"
   ]
  },
  {
   "cell_type": "code",
   "execution_count": 37,
   "id": "5e8ce712",
   "metadata": {},
   "outputs": [],
   "source": [
    "build_thumbnail('E:/comics_database/', './comicsbrowser/static/thumbnail')"
   ]
  },
  {
   "cell_type": "code",
   "execution_count": 33,
   "id": "53d7f5c2",
   "metadata": {},
   "outputs": [],
   "source": [
    "root_path = 'E:/comics_database/'\n",
    "output_path = './comicsreader/static/thumbnail/'"
   ]
  },
  {
   "cell_type": "code",
   "execution_count": 35,
   "id": "cae11f4d",
   "metadata": {},
   "outputs": [],
   "source": [
    "for dirpath, dirnames, filenames in os.walk(root_path, topdown=False):\n",
    "    pass"
   ]
  },
  {
   "cell_type": "code",
   "execution_count": null,
   "id": "fd134595",
   "metadata": {},
   "outputs": [],
   "source": []
  }
 ],
 "metadata": {
  "kernelspec": {
   "display_name": "Python 3 (ipykernel)",
   "language": "python",
   "name": "python3"
  },
  "language_info": {
   "codemirror_mode": {
    "name": "ipython",
    "version": 3
   },
   "file_extension": ".py",
   "mimetype": "text/x-python",
   "name": "python",
   "nbconvert_exporter": "python",
   "pygments_lexer": "ipython3",
   "version": "3.9.6"
  }
 },
 "nbformat": 4,
 "nbformat_minor": 5
}
