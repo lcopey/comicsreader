{
 "cells": [
  {
   "cell_type": "markdown",
   "metadata": {},
   "source": [
    "# Database"
   ]
  },
  {
   "cell_type": "code",
   "execution_count": null,
   "metadata": {},
   "outputs": [],
   "source": [
    "%config Completer.use_jedi = False"
   ]
  },
  {
   "cell_type": "code",
   "execution_count": null,
   "metadata": {},
   "outputs": [],
   "source": [
    "import pandas as pd\n",
    "import re"
   ]
  },
  {
   "cell_type": "code",
   "execution_count": null,
   "metadata": {},
   "outputs": [],
   "source": [
    "datas = pd.read_json('./tests/Processor_tests.json').T"
   ]
  },
  {
   "cell_type": "code",
   "execution_count": null,
   "metadata": {},
   "outputs": [],
   "source": [
    "datas.to_csv('./database.csv', sep=';', encoding='latin-1')"
   ]
  },
  {
   "cell_type": "markdown",
   "metadata": {},
   "source": [
    "# Converter"
   ]
  },
  {
   "cell_type": "markdown",
   "metadata": {},
   "source": [
    "## CBR"
   ]
  },
  {
   "cell_type": "code",
   "execution_count": null,
   "metadata": {},
   "outputs": [],
   "source": [
    "from comicsreader.converter import cbr2cbz"
   ]
  },
  {
   "cell_type": "code",
   "execution_count": null,
   "metadata": {},
   "outputs": [],
   "source": [
    "cbr2cbz('./tests/01 Wasteland.cbr')"
   ]
  },
  {
   "cell_type": "code",
   "execution_count": null,
   "metadata": {},
   "outputs": [],
   "source": []
  },
  {
   "cell_type": "markdown",
   "metadata": {},
   "source": [
    "## Pdf"
   ]
  },
  {
   "cell_type": "code",
   "execution_count": null,
   "metadata": {},
   "outputs": [],
   "source": [
    "from comicsreader.converter import pdf2cbz"
   ]
  },
  {
   "cell_type": "code",
   "execution_count": null,
   "metadata": {},
   "outputs": [],
   "source": [
    "pdf2cbz('./tests/Invisible Republic - T01.pdf')"
   ]
  },
  {
   "cell_type": "markdown",
   "metadata": {},
   "source": [
    "# Dev Meta data"
   ]
  },
  {
   "cell_type": "code",
   "execution_count": null,
   "metadata": {},
   "outputs": [],
   "source": [
    "%load_ext autoreload\n",
    "%autoreload 2"
   ]
  },
  {
   "cell_type": "code",
   "execution_count": null,
   "metadata": {},
   "outputs": [],
   "source": [
    "import os\n",
    "import pandas as pd\n",
    "from comicsreader.metaprocessor import MetaProcessor as Meta\n",
    "from comicsreader.metaprocessor import TitleProcessor as Proc\n",
    "import re"
   ]
  },
  {
   "cell_type": "code",
   "execution_count": null,
   "metadata": {},
   "outputs": [],
   "source": [
    "path = 'D:/Mes bds/'"
   ]
  },
  {
   "cell_type": "code",
   "execution_count": null,
   "metadata": {},
   "outputs": [],
   "source": [
    "for root, dirs, files in os.walk(path, topdown=False):\n",
    "    pass"
   ]
  },
  {
   "cell_type": "code",
   "execution_count": null,
   "metadata": {
    "scrolled": true
   },
   "outputs": [],
   "source": [
    "root"
   ]
  },
  {
   "cell_type": "code",
   "execution_count": null,
   "metadata": {},
   "outputs": [],
   "source": [
    "files"
   ]
  },
  {
   "cell_type": "code",
   "execution_count": null,
   "metadata": {},
   "outputs": [],
   "source": [
    "file = files[3]\n",
    "file"
   ]
  },
  {
   "cell_type": "code",
   "execution_count": null,
   "metadata": {},
   "outputs": [],
   "source": [
    "pattern = re.compile(r\"\"\"\n",
    "                                (?!{)  # ignore when starting with {\n",
    "                                ([^A-Za-z][0-9]{1,3})\n",
    "                                (-[^A-Za-z][0-9]{1,3})?\n",
    "                                (?!})  # ignore when finishing with }\n",
    "\n",
    "                                \"\"\", re.VERBOSE\n",
    "                                 )\n",
    "# pattern = '[0-9]{1,3}'\n",
    "match = re.search(pattern, file)\n",
    "match"
   ]
  },
  {
   "cell_type": "code",
   "execution_count": null,
   "metadata": {
    "scrolled": true
   },
   "outputs": [],
   "source": [
    "match.groups()"
   ]
  },
  {
   "cell_type": "code",
   "execution_count": null,
   "metadata": {},
   "outputs": [],
   "source": [
    "processor = Proc()\n",
    "processor(file)"
   ]
  },
  {
   "cell_type": "code",
   "execution_count": null,
   "metadata": {},
   "outputs": [],
   "source": [
    "file"
   ]
  },
  {
   "cell_type": "code",
   "execution_count": null,
   "metadata": {},
   "outputs": [],
   "source": [
    "datas = []\n",
    "for file in files:\n",
    "    datas.append(Meta.from_file(file))\n",
    "\n",
    "processed = pd.DataFrame([data.as_dict() for data in datas])"
   ]
  },
  {
   "cell_type": "code",
   "execution_count": null,
   "metadata": {},
   "outputs": [],
   "source": [
    "from ipywidgets import widgets, interactive, interact\n",
    "\n",
    "pd.set_option(\"max_colwidth\", 100)\n",
    "\n",
    "@interact(n=list(range(processed.index.stop // 5)))\n",
    "def sample(n):\n",
    "    return processed.loc[5*n:5*(n+1), ['file', 'extension', 'date', 'volumes', 'chapters', 'title']]"
   ]
  },
  {
   "cell_type": "code",
   "execution_count": null,
   "metadata": {},
   "outputs": [],
   "source": [
    "import json"
   ]
  },
  {
   "cell_type": "code",
   "execution_count": null,
   "metadata": {},
   "outputs": [],
   "source": [
    "processed.T.to_json('./tests/Processor_tests.json', indent=4)"
   ]
  },
  {
   "cell_type": "code",
   "execution_count": null,
   "metadata": {},
   "outputs": [],
   "source": [
    "processed.to_csv('./database.csv', sep=';', encoding='latin-1')"
   ]
  },
  {
   "cell_type": "markdown",
   "metadata": {},
   "source": [
    "# Database"
   ]
  },
  {
   "cell_type": "code",
   "execution_count": 1,
   "metadata": {},
   "outputs": [],
   "source": [
    "import pandas as pd\n",
    "import re, os\n",
    "import shutil\n",
    "import ast\n",
    "from comicsreader.converter import cbr2cbz, pdf2cbz\n",
    "\n",
    "%load_ext autoreload\n",
    "%autoreload 2"
   ]
  },
  {
   "cell_type": "code",
   "execution_count": 17,
   "metadata": {},
   "outputs": [],
   "source": [
    "def format_list(x, prefix='(', suffix=')'):\n",
    "    if len(x) == 0:\n",
    "        result = ''\n",
    "    elif len(x) < 3:\n",
    "        result = prefix + '-'.join(map(str, x)) + suffix\n",
    "    else:\n",
    "        result = prefix + ', '.join(map(str, x)) + suffix\n",
    "    return result\n",
    "\n",
    "def format_title(x):\n",
    "    dates = format_list(x.dates, '(', ')')\n",
    "    volumes = format_list(x.volumes, ', T', '')\n",
    "#     chapters = format_list(x.chapters, ', ', '')\n",
    "    result = f'{x.title} {dates}{volumes}'\n",
    "    result = re.sub(' +', ' ', result.strip())\n",
    "    return result"
   ]
  },
  {
   "cell_type": "code",
   "execution_count": 18,
   "metadata": {},
   "outputs": [],
   "source": [
    "datas = pd.read_csv('./database_corrected.csv', sep=';', encoding='latin-1', index_col=0)\n",
    "datas[['dates', 'volumes']] = datas[['dates', 'volumes']].applymap(ast.literal_eval)"
   ]
  },
  {
   "cell_type": "code",
   "execution_count": 19,
   "metadata": {},
   "outputs": [],
   "source": [
    "datas['formatted_title'] = datas.apply(format_title, axis=1)"
   ]
  },
  {
   "cell_type": "code",
   "execution_count": null,
   "metadata": {},
   "outputs": [],
   "source": [
    "from comicsreader.converter import _clean_directory"
   ]
  },
  {
   "cell_type": "code",
   "execution_count": null,
   "metadata": {},
   "outputs": [],
   "source": [
    "# convert\n",
    "\n",
    "export_path = 'E:/comics_database/'\n",
    "input_path = 'D:/Mes bds'\n",
    "\n",
    "for series, group in datas.groupby('title'):\n",
    "    path = os.path.join(export_path, series)\n",
    "    if not os.path.exists(path):\n",
    "        os.makedirs(path)\n",
    "    \n",
    "    for _, row in group.iterrows():\n",
    "        # convert\n",
    "        file = row.file\n",
    "        ext = file.split('.')[-1]\n",
    "        if ext == 'cbz':\n",
    "            shutil.copy(os.path.join(input_path, file), os.path.join(path, file))\n",
    "        elif ext == 'cbr':\n",
    "            cbr2cbz(os.path.join(input_path, file), path)\n",
    "        elif ext == 'pdf':\n",
    "            pdf2cbz(os.path.join(input_path, file), path)\n",
    "            \n",
    "        # rename\n",
    "        input_file = file.split('.')[0] + '.cbz'\n",
    "        output_file = row.formatted_title + '.cbz'\n",
    "        os.rename(os.path.join(path, input_file), os.path.join(path, output_file))"
   ]
  },
  {
   "cell_type": "code",
   "execution_count": 21,
   "metadata": {},
   "outputs": [],
   "source": [
    "series_table = pd.DataFrame(datas.title.unique(), columns=['Serie'])\n",
    "series_table['ID'] = series_table.Serie.apply(hash)\n",
    "series_map = series_table.set_index('Serie').ID\n",
    "\n",
    "books_table = datas.copy()\n",
    "books_table['serie_ID'] = series_map[books_table['title']].values\n",
    "books_table.drop(columns=['tokenized_file', 'extension', 'title'], inplace=True)\n",
    "books_table.rename({'formatted_title': 'name'}, axis=1, inplace=True)\n",
    "books_table['ID']= books_table.name.apply(hash)\n",
    "books_table[['dates', 'volumes']] = books_table[['dates', 'volumes']].astype(str)\n",
    "\n",
    "series_table.rename(str.lower, axis=1, inplace=True)\n",
    "books_table.rename(str.lower, axis=1, inplace=True)"
   ]
  },
  {
   "cell_type": "code",
   "execution_count": null,
   "metadata": {},
   "outputs": [],
   "source": [
    "import sqlite3\n",
    "from sqlite3 import Error\n",
    "\n",
    "def create_connection(path):\n",
    "    db = None\n",
    "    try:\n",
    "        db = sqlite3.connect(path)\n",
    "        print(\"Connection to SQLite DB successful\")\n",
    "    except Error as e:\n",
    "        print(f\"The error '{e}' occurred\")\n",
    "\n",
    "    return db\n",
    "\n",
    "def execute_query(db, query):\n",
    "    cursor = db.cursor()\n",
    "    try:\n",
    "        cursor.execute(query)\n",
    "        db.commit()\n",
    "        print(\"Query executed successfully\")\n",
    "    except Error as e:\n",
    "        print(f\"The error '{e}' occurred\")\n",
    "        \n",
    "def query_db(db, query, args=(), one=False):\n",
    "    cursor = db.cursor()\n",
    "    cursor.execute(query)\n",
    "    rv = cursor.fetchall()\n",
    "    cursor.close()\n",
    "    return (make_dicts(cursor, rv[0]) if rv else None) if one else tuple([make_dicts(cursor, value) for value in rv])\n",
    "\n",
    "def make_dicts(cursor, row):\n",
    "    return dict(((cursor.description[idx][0], value) for idx, value in enumerate(row)))"
   ]
  },
  {
   "cell_type": "code",
   "execution_count": null,
   "metadata": {},
   "outputs": [],
   "source": [
    "series_frame_to_sql = lambda x: f\"({x['ID']}, '{x['Series']}')\"\n",
    "books_frame_to_sql = lambda x: f\"({x['ID']}, {x['series_ID']}, '{x['name']}', '{x['date']}', '{x['volumes']}')\"\n",
    "frame_to_sql = lambda x, func: ', '.join(x.apply(func, axis=1))"
   ]
  },
  {
   "cell_type": "markdown",
   "metadata": {},
   "source": [
    "# sqlite"
   ]
  },
  {
   "cell_type": "code",
   "execution_count": null,
   "metadata": {},
   "outputs": [],
   "source": [
    "db = create_connection('./comics_database.sqlite')"
   ]
  },
  {
   "cell_type": "code",
   "execution_count": null,
   "metadata": {},
   "outputs": [],
   "source": [
    "create_series_table_query = \"\"\"\n",
    "CREATE TABLE IF NOT EXISTS series (\n",
    "  id INTEGER PRIMARY KEY,\n",
    "  series TEXT NOT NULL\n",
    ");\n",
    "\"\"\"\n",
    "execute_query(db, create_series_table_query)"
   ]
  },
  {
   "cell_type": "code",
   "execution_count": null,
   "metadata": {},
   "outputs": [],
   "source": [
    "values_to_insert = frame_to_sql(series_table, series_frame_to_sql)\n",
    "\n",
    "insert_series_values_query = f\"\"\"\n",
    "INSERT INTO\n",
    "  series (id, series)\n",
    "VALUES\n",
    "  {values_to_insert};\n",
    "\"\"\"\n",
    "\n",
    "execute_query(db, insert_series_values_query)"
   ]
  },
  {
   "cell_type": "code",
   "execution_count": null,
   "metadata": {},
   "outputs": [],
   "source": [
    "query_db(db, 'SELECT * FROM series')"
   ]
  },
  {
   "cell_type": "code",
   "execution_count": null,
   "metadata": {},
   "outputs": [],
   "source": [
    "create_books_table_query = \"\"\"\n",
    "CREATE TABLE IF NOT EXISTS books (\n",
    "  id INTEGER PRIMARY KEY,\n",
    "  series_id INTEGER NOT NULL,\n",
    "  name TEXT NOT NULL,\n",
    "  date TEXT,\n",
    "  volumes TEXT,\n",
    "  FOREIGN KEY (series_id) REFERENCES series (id)\n",
    ");\n",
    "\"\"\"\n",
    "execute_query(db, create_books_table_query)"
   ]
  },
  {
   "cell_type": "code",
   "execution_count": null,
   "metadata": {},
   "outputs": [],
   "source": [
    "values_to_insert = frame_to_sql(books_table, books_frame_to_sql)\n",
    "\n",
    "insert_series_values_query = f\"\"\"\n",
    "INSERT INTO\n",
    "  books (id, series_id, name, date, volumes)\n",
    "VALUES\n",
    "  {values_to_insert};\n",
    "\"\"\"\n",
    "\n",
    "execute_query(db, insert_series_values_query)"
   ]
  },
  {
   "cell_type": "code",
   "execution_count": null,
   "metadata": {},
   "outputs": [],
   "source": [
    "query = \"\"\"\n",
    "SELECT * FROM books b\n",
    "INNER JOIN series s on s.ID = b.series_ID\n",
    "where s.series like 'Norse%'\n",
    "\"\"\"\n",
    "\n",
    "query_db(db, query)"
   ]
  },
  {
   "cell_type": "code",
   "execution_count": null,
   "metadata": {},
   "outputs": [],
   "source": [
    "db.close()"
   ]
  },
  {
   "cell_type": "markdown",
   "metadata": {},
   "source": [
    "# Sqlalchemy"
   ]
  },
  {
   "cell_type": "code",
   "execution_count": 52,
   "metadata": {},
   "outputs": [],
   "source": [
    "from sqlalchemy import Column, Integer, String, ForeignKey, Table, MetaData\n",
    "from sqlalchemy.orm import relationship, backref\n",
    "from sqlalchemy.ext.declarative import declarative_base\n",
    "from functools import partial"
   ]
  },
  {
   "cell_type": "code",
   "execution_count": 90,
   "metadata": {},
   "outputs": [],
   "source": [
    "Base = declarative_base()\n",
    "class AsDict:\n",
    "    __attr__ = []\n",
    "    \n",
    "    def as_dict(self):\n",
    "        return {key: self.__getattribute__(key) for key in self.__attr__}\n",
    "    \n",
    "    @classmethod\n",
    "    def from_series(cls, x: pd.Series):\n",
    "        return cls(**x[cls.__attr__].to_dict())\n",
    "    \n",
    "    def __repr__(self):\n",
    "        return self.as_dict().__str__()\n",
    "\n",
    "class Serie(Base, AsDict):\n",
    "    __tablename__ = 'serie'\n",
    "    __attr__ = ['id', 'serie']\n",
    "    id = Column(Integer, primary_key=True)\n",
    "    serie = Column(String)\n",
    "    books = relationship('Book', backref=backref('serie'))    \n",
    "    \n",
    "class Book(Base, AsDict):\n",
    "    __tablename__ = 'book'\n",
    "    __attr__ = ['id', 'serie_id', 'name', 'dates','volumes']\n",
    "    id = Column(Integer, primary_key=True)\n",
    "    serie_id = Column(Integer, ForeignKey('serie.id'))\n",
    "    name = Column(String)\n",
    "    dates = Column(String)\n",
    "    volumes = Column(String)\n",
    "    \n",
    "series = Table('serie', )"
   ]
  },
  {
   "cell_type": "code",
   "execution_count": 80,
   "metadata": {},
   "outputs": [],
   "source": [
    "from sqlalchemy import create_engine, text, insert\n",
    "from sqlalchemy.orm import sessionmaker"
   ]
  },
  {
   "cell_type": "code",
   "execution_count": 9,
   "metadata": {},
   "outputs": [],
   "source": [
    "engine = create_engine('sqlite+pysqlite:///comics_database.sqlite', echo=True, future=True)\n",
    "Session = sessionmaker(bind=engine)\n",
    "session = Session()"
   ]
  },
  {
   "cell_type": "code",
   "execution_count": 28,
   "metadata": {},
   "outputs": [
    {
     "name": "stdout",
     "output_type": "stream",
     "text": [
      "2021-08-13 12:23:34,886 INFO sqlalchemy.engine.Engine BEGIN (implicit)\n",
      "2021-08-13 12:23:34,892 INFO sqlalchemy.engine.Engine PRAGMA main.table_info(\"serie\")\n",
      "2021-08-13 12:23:34,896 INFO sqlalchemy.engine.Engine [raw sql] ()\n",
      "2021-08-13 12:23:34,898 INFO sqlalchemy.engine.Engine PRAGMA temp.table_info(\"serie\")\n",
      "2021-08-13 12:23:34,898 INFO sqlalchemy.engine.Engine [raw sql] ()\n",
      "2021-08-13 12:23:34,898 INFO sqlalchemy.engine.Engine PRAGMA main.table_info(\"book\")\n",
      "2021-08-13 12:23:34,906 INFO sqlalchemy.engine.Engine [raw sql] ()\n",
      "2021-08-13 12:23:34,907 INFO sqlalchemy.engine.Engine PRAGMA temp.table_info(\"book\")\n",
      "2021-08-13 12:23:34,907 INFO sqlalchemy.engine.Engine [raw sql] ()\n",
      "2021-08-13 12:23:34,913 INFO sqlalchemy.engine.Engine \n",
      "CREATE TABLE serie (\n",
      "\tid INTEGER NOT NULL, \n",
      "\tserie VARCHAR, \n",
      "\tPRIMARY KEY (id)\n",
      ")\n",
      "\n",
      "\n",
      "2021-08-13 12:23:34,915 INFO sqlalchemy.engine.Engine [no key 0.00147s] ()\n",
      "2021-08-13 12:23:34,924 INFO sqlalchemy.engine.Engine \n",
      "CREATE TABLE book (\n",
      "\tid INTEGER NOT NULL, \n",
      "\tserie_id INTEGER, \n",
      "\tname VARCHAR, \n",
      "\tdates VARCHAR, \n",
      "\tvolumes VARCHAR, \n",
      "\tPRIMARY KEY (id), \n",
      "\tFOREIGN KEY(serie_id) REFERENCES serie (id)\n",
      ")\n",
      "\n",
      "\n",
      "2021-08-13 12:23:34,928 INFO sqlalchemy.engine.Engine [no key 0.00280s] ()\n",
      "2021-08-13 12:23:34,936 INFO sqlalchemy.engine.Engine COMMIT\n"
     ]
    }
   ],
   "source": [
    "Base.metadata.create_all(engine)"
   ]
  },
  {
   "cell_type": "code",
   "execution_count": null,
   "metadata": {},
   "outputs": [],
   "source": [
    "def execute_query(engine, query, **args):\n",
    "    with engine.connect() as conn:\n",
    "        conn.execute(query, *args)\n",
    "        conn.commit()"
   ]
  },
  {
   "cell_type": "code",
   "execution_count": null,
   "metadata": {},
   "outputs": [],
   "source": [
    "session.add_all()"
   ]
  },
  {
   "cell_type": "code",
   "execution_count": 95,
   "metadata": {},
   "outputs": [],
   "source": [
    "values_to_insert = [Serie.from_series(row) for _, row in series_table.iterrows()]\n",
    "session.add_all(values_to_insert)\n",
    "session.commit()"
   ]
  },
  {
   "cell_type": "code",
   "execution_count": 98,
   "metadata": {},
   "outputs": [
    {
     "name": "stdout",
     "output_type": "stream",
     "text": [
      "2021-08-13 18:13:28,896 INFO sqlalchemy.engine.Engine BEGIN (implicit)\n",
      "2021-08-13 18:13:28,912 INFO sqlalchemy.engine.Engine INSERT INTO book (id, serie_id, name, dates, volumes) VALUES (?, ?, ?, ?, ?)\n",
      "2021-08-13 18:13:28,912 INFO sqlalchemy.engine.Engine [generated in 0.00362s] ((1360680357879757109, 1360680357879757109, 'Authority - Human on the Inside', '[]', '[]'), (4145634991153928280, -7681845462247089994, 'Blackgas (2006)', '[2006]', '[]'), (9010358171587930173, 2124202763486797453, 'Caliban (2014)', '[2014]', '[]'), (-6127913855428277606, 490953623514464766, 'Critical Role - Vox Machina Origins Series II (2020), T5', '[2020]', '[5]'), (-8684704682130249962, 490953623514464766, 'Critical Role - Vox Machina Origins Series II (2019), T1', '[2019]', '[1]'), (448587910115620161, 490953623514464766, 'Critical Role - Vox Machina Origins Series II (2019), T2', '[2019]', '[2]'), (4135652741296550171, 490953623514464766, 'Critical Role - Vox Machina Origins Series II (2019), T3', '[2019]', '[3]'), (-3836179916073991244, 490953623514464766, 'Critical Role - Vox Machina Origins Series II (2020), T6', '[2020]', '[6]')  ... displaying 10 of 103 total bound parameter sets ...  (6925310651616329234, 769766613914488560, 'Wyrd (2019), T1', '[2019]', '[1]'), (1302098659146307780, 769766613914488560, 'Wyrd (2019), T2', '[2019]', '[2]'))\n",
      "2021-08-13 18:13:28,925 INFO sqlalchemy.engine.Engine COMMIT\n"
     ]
    }
   ],
   "source": [
    "values_to_insert = [Book.from_series(row) for _, row in books_table.iterrows()]\n",
    "session.add_all(values_to_insert)\n",
    "session.commit()"
   ]
  },
  {
   "cell_type": "code",
   "execution_count": 99,
   "metadata": {},
   "outputs": [],
   "source": [
    "session.close()"
   ]
  },
  {
   "cell_type": "markdown",
   "metadata": {},
   "source": [
    "# pyunpack"
   ]
  },
  {
   "cell_type": "code",
   "execution_count": null,
   "metadata": {},
   "outputs": [],
   "source": [
    "%load_ext autoreload\n",
    "%autoreload 2\n",
    "%config Completer.use_jedi = False\n",
    "\n",
    "from pyunpack import Archive\n",
    "from zipfile import ZipFile\n",
    "import os"
   ]
  },
  {
   "cell_type": "markdown",
   "metadata": {},
   "source": [
    "# Rarfile"
   ]
  },
  {
   "cell_type": "code",
   "execution_count": null,
   "metadata": {},
   "outputs": [],
   "source": [
    "%load_ext autoreload\n",
    "%autoreload 2\n",
    "%config Completer.use_jedi = False\n",
    "\n",
    "import rarfile.rarfile as rarfile\n",
    "\n",
    "# rarfile.UNAR_TOOL = './unar/unar.exe'\n",
    "# rarfile.UNAR_TOOL = './unrar/UNRAR.exe'\n",
    "rarfile.UNAR_TOOL = './libarchive/bin/bsdtar.exe'"
   ]
  },
  {
   "cell_type": "code",
   "execution_count": null,
   "metadata": {
    "scrolled": false
   },
   "outputs": [],
   "source": [
    "file_path = './01 Wasteland.cbr'\n",
    "with rarfile.RarFile(file_path) as rf:\n",
    "    for f in rf.infolist():\n",
    "        print(f.filename, f.file_size)\n",
    "        rf.extract(f.orig_filename, './')"
   ]
  },
  {
   "cell_type": "code",
   "execution_count": null,
   "metadata": {},
   "outputs": [],
   "source": []
  },
  {
   "cell_type": "code",
   "execution_count": null,
   "metadata": {},
   "outputs": [],
   "source": [
    "f.orig_filename.endswith(b'/')"
   ]
  }
 ],
 "metadata": {
  "hide_input": false,
  "kernelspec": {
   "display_name": "Python 3",
   "language": "python",
   "name": "python3"
  },
  "language_info": {
   "codemirror_mode": {
    "name": "ipython",
    "version": 3
   },
   "file_extension": ".py",
   "mimetype": "text/x-python",
   "name": "python",
   "nbconvert_exporter": "python",
   "pygments_lexer": "ipython3",
   "version": "3.7.7"
  },
  "toc": {
   "base_numbering": 1,
   "nav_menu": {},
   "number_sections": true,
   "sideBar": true,
   "skip_h1_title": false,
   "title_cell": "Table of Contents",
   "title_sidebar": "Contents",
   "toc_cell": false,
   "toc_position": {
    "height": "calc(100% - 180px)",
    "left": "10px",
    "top": "150px",
    "width": "165px"
   },
   "toc_section_display": true,
   "toc_window_display": true
  }
 },
 "nbformat": 4,
 "nbformat_minor": 4
}
